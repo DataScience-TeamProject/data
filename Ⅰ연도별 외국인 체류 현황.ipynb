{
  "nbformat": 4,
  "nbformat_minor": 0,
  "metadata": {
    "colab": {
      "name": "연도별로 증가 (그래프)",
      "provenance": [],
      "collapsed_sections": [],
      "include_colab_link": true
    },
    "kernelspec": {
      "name": "python3",
      "display_name": "Python 3"
    },
    "language_info": {
      "name": "python"
    }
  },
  "cells": [
    {
      "cell_type": "markdown",
      "metadata": {
        "id": "view-in-github",
        "colab_type": "text"
      },
      "source": [
        "<a href=\"https://colab.research.google.com/github/DataScience-TeamProject/data/blob/main/%E2%85%A0%20%EC%97%B0%EB%8F%84%EB%B3%84%20%EC%B2%B4%EB%A5%98%20%EC%99%B8%EA%B5%AD%EC%9D%B8%20%ED%98%84%ED%99%A9.ipynb\" target=\"_parent\"><img src=\"https://colab.research.google.com/assets/colab-badge.svg\" alt=\"Open In Colab\"/></a>"
      ]
    },
    {
      "cell_type": "markdown",
      "source": [
        "# **Ⅰ  연도별 외국인 체류 현황**"
      ],
      "metadata": {
        "id": "KafBABDGQjNf"
      }
    },
    {
      "cell_type": "markdown",
      "source": [
        "# **1. 라이브러리 및 데이터 불러오기**"
      ],
      "metadata": {
        "id": "dzUsnP7iQ02E"
      }
    },
    {
      "cell_type": "markdown",
      "source": [
        "**사용한 데이터**"
      ],
      "metadata": {
        "id": "56BSU1BpQ5Gj"
      }
    },
    {
      "cell_type": "code",
      "execution_count": 1,
      "metadata": {
        "id": "IujVfr2apZBn"
      },
      "outputs": [],
      "source": [
        "import numpy as np\n",
        "import matplotlib\n",
        "import matplotlib.pyplot as plt\n",
        "import pandas as pd"
      ]
    },
    {
      "cell_type": "code",
      "source": [
        "#한글 폰트 설치\n",
        "!sudo apt-get install -y fonts-nanum\n",
        "!sudo fc-cache -fv\n",
        "!rm ~/.cache/matplotlib -rf"
      ],
      "metadata": {
        "colab": {
          "base_uri": "https://localhost:8080/"
        },
        "id": "3za__FjgufD4",
        "outputId": "c475dcdd-6a26-45f7-fd3c-5a7e494361cc"
      },
      "execution_count": 2,
      "outputs": [
        {
          "output_type": "stream",
          "name": "stdout",
          "text": [
            "Reading package lists... Done\n",
            "Building dependency tree       \n",
            "Reading state information... Done\n",
            "fonts-nanum is already the newest version (20170925-1).\n",
            "The following package was automatically installed and is no longer required:\n",
            "  libnvidia-common-460\n",
            "Use 'sudo apt autoremove' to remove it.\n",
            "0 upgraded, 0 newly installed, 0 to remove and 45 not upgraded.\n",
            "/usr/share/fonts: caching, new cache contents: 0 fonts, 1 dirs\n",
            "/usr/share/fonts/truetype: caching, new cache contents: 0 fonts, 3 dirs\n",
            "/usr/share/fonts/truetype/humor-sans: caching, new cache contents: 1 fonts, 0 dirs\n",
            "/usr/share/fonts/truetype/liberation: caching, new cache contents: 16 fonts, 0 dirs\n",
            "/usr/share/fonts/truetype/nanum: caching, new cache contents: 10 fonts, 0 dirs\n",
            "/usr/local/share/fonts: caching, new cache contents: 0 fonts, 0 dirs\n",
            "/root/.local/share/fonts: skipping, no such directory\n",
            "/root/.fonts: skipping, no such directory\n",
            "/var/cache/fontconfig: cleaning cache directory\n",
            "/root/.cache/fontconfig: not cleaning non-existent cache directory\n",
            "/root/.fontconfig: not cleaning non-existent cache directory\n",
            "fc-cache: succeeded\n"
          ]
        }
      ]
    },
    {
      "cell_type": "code",
      "source": [
        "#csv 파일 불러오기\n",
        "foreigner = pd.read_csv('연도별 외국인 체류 현황.csv', encoding='cp949')\n",
        "foreigner.head()"
      ],
      "metadata": {
        "id": "pAQ0YIoZt1R1",
        "outputId": "5f008e82-f5b4-4c06-afb8-d00a0071aa5d",
        "colab": {
          "base_uri": "https://localhost:8080/",
          "height": 331
        }
      },
      "execution_count": 19,
      "outputs": [
        {
          "output_type": "execute_result",
          "data": {
            "text/plain": [
              "   국적(지역)별(1)  성별(1)     2016   2016.1   2016.2     2016.3     2016.4  \\\n",
              "0  국적(지역)별(1)  성별(1)       합계  외교(A-1)  공무(A-2)  사증면제(B-1)  관광통과(B-2)   \n",
              "1          총계      계  2049441     2992     2230     112323     118566   \n",
              "2          총계     남자  1117206     1597     1395      56041      55209   \n",
              "3          총계     여자   932235     1395      835      56282      63357   \n",
              "4          총계   제3의성        -        -        -          -          -   \n",
              "\n",
              "      2016.5     2016.6     2016.7  ...  2020.28  2020.29    2020.30  2020.31  \\\n",
              "0  일시취재(C-1)  단기방문(C-3)  단기취업(C-4)  ...  거주(F-2)  동반(F-3)  재외동포(F-4)  영주(F-5)   \n",
              "1         27     190443        594  ...    43666    20050     466682   160947   \n",
              "2         21     101814        443  ...    19354     7457     228317    74714   \n",
              "3          6      88629        151  ...    24312    12593     238365    86233   \n",
              "4          -          -          -  ...        -        -          -        -   \n",
              "\n",
              "     2020.32  2020.33    2020.34    2020.35    2020.36     2020.37  \n",
              "0  결혼이민(F-6)  기타(G-1)  관광취업(H-1)  방문취업(H-2)  관광상륙(T-1)  기타(Others)  \n",
              "1     133987    33196        874     154537        257       90654  \n",
              "2      26042    24813        196      93196        144       63242  \n",
              "3     107945     8383        678      61341        113       27412  \n",
              "4          -        -          -          -          -           -  \n",
              "\n",
              "[5 rows x 192 columns]"
            ],
            "text/html": [
              "\n",
              "  <div id=\"df-af88664a-e9e6-4f83-abda-fae3f02a78a0\">\n",
              "    <div class=\"colab-df-container\">\n",
              "      <div>\n",
              "<style scoped>\n",
              "    .dataframe tbody tr th:only-of-type {\n",
              "        vertical-align: middle;\n",
              "    }\n",
              "\n",
              "    .dataframe tbody tr th {\n",
              "        vertical-align: top;\n",
              "    }\n",
              "\n",
              "    .dataframe thead th {\n",
              "        text-align: right;\n",
              "    }\n",
              "</style>\n",
              "<table border=\"1\" class=\"dataframe\">\n",
              "  <thead>\n",
              "    <tr style=\"text-align: right;\">\n",
              "      <th></th>\n",
              "      <th>국적(지역)별(1)</th>\n",
              "      <th>성별(1)</th>\n",
              "      <th>2016</th>\n",
              "      <th>2016.1</th>\n",
              "      <th>2016.2</th>\n",
              "      <th>2016.3</th>\n",
              "      <th>2016.4</th>\n",
              "      <th>2016.5</th>\n",
              "      <th>2016.6</th>\n",
              "      <th>2016.7</th>\n",
              "      <th>...</th>\n",
              "      <th>2020.28</th>\n",
              "      <th>2020.29</th>\n",
              "      <th>2020.30</th>\n",
              "      <th>2020.31</th>\n",
              "      <th>2020.32</th>\n",
              "      <th>2020.33</th>\n",
              "      <th>2020.34</th>\n",
              "      <th>2020.35</th>\n",
              "      <th>2020.36</th>\n",
              "      <th>2020.37</th>\n",
              "    </tr>\n",
              "  </thead>\n",
              "  <tbody>\n",
              "    <tr>\n",
              "      <th>0</th>\n",
              "      <td>국적(지역)별(1)</td>\n",
              "      <td>성별(1)</td>\n",
              "      <td>합계</td>\n",
              "      <td>외교(A-1)</td>\n",
              "      <td>공무(A-2)</td>\n",
              "      <td>사증면제(B-1)</td>\n",
              "      <td>관광통과(B-2)</td>\n",
              "      <td>일시취재(C-1)</td>\n",
              "      <td>단기방문(C-3)</td>\n",
              "      <td>단기취업(C-4)</td>\n",
              "      <td>...</td>\n",
              "      <td>거주(F-2)</td>\n",
              "      <td>동반(F-3)</td>\n",
              "      <td>재외동포(F-4)</td>\n",
              "      <td>영주(F-5)</td>\n",
              "      <td>결혼이민(F-6)</td>\n",
              "      <td>기타(G-1)</td>\n",
              "      <td>관광취업(H-1)</td>\n",
              "      <td>방문취업(H-2)</td>\n",
              "      <td>관광상륙(T-1)</td>\n",
              "      <td>기타(Others)</td>\n",
              "    </tr>\n",
              "    <tr>\n",
              "      <th>1</th>\n",
              "      <td>총계</td>\n",
              "      <td>계</td>\n",
              "      <td>2049441</td>\n",
              "      <td>2992</td>\n",
              "      <td>2230</td>\n",
              "      <td>112323</td>\n",
              "      <td>118566</td>\n",
              "      <td>27</td>\n",
              "      <td>190443</td>\n",
              "      <td>594</td>\n",
              "      <td>...</td>\n",
              "      <td>43666</td>\n",
              "      <td>20050</td>\n",
              "      <td>466682</td>\n",
              "      <td>160947</td>\n",
              "      <td>133987</td>\n",
              "      <td>33196</td>\n",
              "      <td>874</td>\n",
              "      <td>154537</td>\n",
              "      <td>257</td>\n",
              "      <td>90654</td>\n",
              "    </tr>\n",
              "    <tr>\n",
              "      <th>2</th>\n",
              "      <td>총계</td>\n",
              "      <td>남자</td>\n",
              "      <td>1117206</td>\n",
              "      <td>1597</td>\n",
              "      <td>1395</td>\n",
              "      <td>56041</td>\n",
              "      <td>55209</td>\n",
              "      <td>21</td>\n",
              "      <td>101814</td>\n",
              "      <td>443</td>\n",
              "      <td>...</td>\n",
              "      <td>19354</td>\n",
              "      <td>7457</td>\n",
              "      <td>228317</td>\n",
              "      <td>74714</td>\n",
              "      <td>26042</td>\n",
              "      <td>24813</td>\n",
              "      <td>196</td>\n",
              "      <td>93196</td>\n",
              "      <td>144</td>\n",
              "      <td>63242</td>\n",
              "    </tr>\n",
              "    <tr>\n",
              "      <th>3</th>\n",
              "      <td>총계</td>\n",
              "      <td>여자</td>\n",
              "      <td>932235</td>\n",
              "      <td>1395</td>\n",
              "      <td>835</td>\n",
              "      <td>56282</td>\n",
              "      <td>63357</td>\n",
              "      <td>6</td>\n",
              "      <td>88629</td>\n",
              "      <td>151</td>\n",
              "      <td>...</td>\n",
              "      <td>24312</td>\n",
              "      <td>12593</td>\n",
              "      <td>238365</td>\n",
              "      <td>86233</td>\n",
              "      <td>107945</td>\n",
              "      <td>8383</td>\n",
              "      <td>678</td>\n",
              "      <td>61341</td>\n",
              "      <td>113</td>\n",
              "      <td>27412</td>\n",
              "    </tr>\n",
              "    <tr>\n",
              "      <th>4</th>\n",
              "      <td>총계</td>\n",
              "      <td>제3의성</td>\n",
              "      <td>-</td>\n",
              "      <td>-</td>\n",
              "      <td>-</td>\n",
              "      <td>-</td>\n",
              "      <td>-</td>\n",
              "      <td>-</td>\n",
              "      <td>-</td>\n",
              "      <td>-</td>\n",
              "      <td>...</td>\n",
              "      <td>-</td>\n",
              "      <td>-</td>\n",
              "      <td>-</td>\n",
              "      <td>-</td>\n",
              "      <td>-</td>\n",
              "      <td>-</td>\n",
              "      <td>-</td>\n",
              "      <td>-</td>\n",
              "      <td>-</td>\n",
              "      <td>-</td>\n",
              "    </tr>\n",
              "  </tbody>\n",
              "</table>\n",
              "<p>5 rows × 192 columns</p>\n",
              "</div>\n",
              "      <button class=\"colab-df-convert\" onclick=\"convertToInteractive('df-af88664a-e9e6-4f83-abda-fae3f02a78a0')\"\n",
              "              title=\"Convert this dataframe to an interactive table.\"\n",
              "              style=\"display:none;\">\n",
              "        \n",
              "  <svg xmlns=\"http://www.w3.org/2000/svg\" height=\"24px\"viewBox=\"0 0 24 24\"\n",
              "       width=\"24px\">\n",
              "    <path d=\"M0 0h24v24H0V0z\" fill=\"none\"/>\n",
              "    <path d=\"M18.56 5.44l.94 2.06.94-2.06 2.06-.94-2.06-.94-.94-2.06-.94 2.06-2.06.94zm-11 1L8.5 8.5l.94-2.06 2.06-.94-2.06-.94L8.5 2.5l-.94 2.06-2.06.94zm10 10l.94 2.06.94-2.06 2.06-.94-2.06-.94-.94-2.06-.94 2.06-2.06.94z\"/><path d=\"M17.41 7.96l-1.37-1.37c-.4-.4-.92-.59-1.43-.59-.52 0-1.04.2-1.43.59L10.3 9.45l-7.72 7.72c-.78.78-.78 2.05 0 2.83L4 21.41c.39.39.9.59 1.41.59.51 0 1.02-.2 1.41-.59l7.78-7.78 2.81-2.81c.8-.78.8-2.07 0-2.86zM5.41 20L4 18.59l7.72-7.72 1.47 1.35L5.41 20z\"/>\n",
              "  </svg>\n",
              "      </button>\n",
              "      \n",
              "  <style>\n",
              "    .colab-df-container {\n",
              "      display:flex;\n",
              "      flex-wrap:wrap;\n",
              "      gap: 12px;\n",
              "    }\n",
              "\n",
              "    .colab-df-convert {\n",
              "      background-color: #E8F0FE;\n",
              "      border: none;\n",
              "      border-radius: 50%;\n",
              "      cursor: pointer;\n",
              "      display: none;\n",
              "      fill: #1967D2;\n",
              "      height: 32px;\n",
              "      padding: 0 0 0 0;\n",
              "      width: 32px;\n",
              "    }\n",
              "\n",
              "    .colab-df-convert:hover {\n",
              "      background-color: #E2EBFA;\n",
              "      box-shadow: 0px 1px 2px rgba(60, 64, 67, 0.3), 0px 1px 3px 1px rgba(60, 64, 67, 0.15);\n",
              "      fill: #174EA6;\n",
              "    }\n",
              "\n",
              "    [theme=dark] .colab-df-convert {\n",
              "      background-color: #3B4455;\n",
              "      fill: #D2E3FC;\n",
              "    }\n",
              "\n",
              "    [theme=dark] .colab-df-convert:hover {\n",
              "      background-color: #434B5C;\n",
              "      box-shadow: 0px 1px 3px 1px rgba(0, 0, 0, 0.15);\n",
              "      filter: drop-shadow(0px 1px 2px rgba(0, 0, 0, 0.3));\n",
              "      fill: #FFFFFF;\n",
              "    }\n",
              "  </style>\n",
              "\n",
              "      <script>\n",
              "        const buttonEl =\n",
              "          document.querySelector('#df-af88664a-e9e6-4f83-abda-fae3f02a78a0 button.colab-df-convert');\n",
              "        buttonEl.style.display =\n",
              "          google.colab.kernel.accessAllowed ? 'block' : 'none';\n",
              "\n",
              "        async function convertToInteractive(key) {\n",
              "          const element = document.querySelector('#df-af88664a-e9e6-4f83-abda-fae3f02a78a0');\n",
              "          const dataTable =\n",
              "            await google.colab.kernel.invokeFunction('convertToInteractive',\n",
              "                                                     [key], {});\n",
              "          if (!dataTable) return;\n",
              "\n",
              "          const docLinkHtml = 'Like what you see? Visit the ' +\n",
              "            '<a target=\"_blank\" href=https://colab.research.google.com/notebooks/data_table.ipynb>data table notebook</a>'\n",
              "            + ' to learn more about interactive tables.';\n",
              "          element.innerHTML = '';\n",
              "          dataTable['output_type'] = 'display_data';\n",
              "          await google.colab.output.renderOutput(dataTable, element);\n",
              "          const docLink = document.createElement('div');\n",
              "          docLink.innerHTML = docLinkHtml;\n",
              "          element.appendChild(docLink);\n",
              "        }\n",
              "      </script>\n",
              "    </div>\n",
              "  </div>\n",
              "  "
            ]
          },
          "metadata": {},
          "execution_count": 19
        }
      ]
    },
    {
      "cell_type": "markdown",
      "source": [
        "# **2. 데이터 전처리**"
      ],
      "metadata": {
        "id": "mtJ6oSBlT-rB"
      }
    },
    {
      "cell_type": "markdown",
      "source": [
        "**데이터 전처리 과정**"
      ],
      "metadata": {
        "id": "re9pFt7OUCnT"
      }
    },
    {
      "cell_type": "code",
      "source": [
        "#각 연도별로 합계만 불러오기\n",
        "data=foreigner.loc[1, ['2016','2017','2018','2019','2020']]\n",
        "data"
      ],
      "metadata": {
        "id": "VgixbcM1E8G1",
        "outputId": "c1cd97af-6c09-4713-d80a-508c379cc020",
        "colab": {
          "base_uri": "https://localhost:8080/"
        }
      },
      "execution_count": 29,
      "outputs": [
        {
          "output_type": "execute_result",
          "data": {
            "text/plain": [
              "2016    2049441\n",
              "2017    2180498\n",
              "2018    2367607\n",
              "2019    2524656\n",
              "2020    2036075\n",
              "Name: 1, dtype: object"
            ]
          },
          "metadata": {},
          "execution_count": 29
        }
      ]
    },
    {
      "cell_type": "code",
      "source": [
        "#값을 실수형(floaat)으로 변환\n",
        "data = data.astype('float') \n",
        "data"
      ],
      "metadata": {
        "id": "nGDnw_PW8tGq",
        "outputId": "08387347-434e-4cb4-9990-fbc928081786",
        "colab": {
          "base_uri": "https://localhost:8080/"
        }
      },
      "execution_count": 30,
      "outputs": [
        {
          "output_type": "execute_result",
          "data": {
            "text/plain": [
              "2016    2049441.0\n",
              "2017    2180498.0\n",
              "2018    2367607.0\n",
              "2019    2524656.0\n",
              "2020    2036075.0\n",
              "Name: 1, dtype: float64"
            ]
          },
          "metadata": {},
          "execution_count": 30
        }
      ]
    },
    {
      "cell_type": "markdown",
      "source": [
        "# **3. 시각화**"
      ],
      "metadata": {
        "id": "ULq7Ut3SU8cm"
      }
    },
    {
      "cell_type": "markdown",
      "source": [
        "**시각화 과정**"
      ],
      "metadata": {
        "id": "KWNAz6fxU-uk"
      }
    },
    {
      "cell_type": "code",
      "source": [
        "#그래프 크기 설정\n",
        "plt.rcParams['figure.figsize'] = (8,6)\n",
        "\n",
        "#한글 폰트 설정\n",
        "plt.rc('font', family='NanumBarunGothic') "
      ],
      "metadata": {
        "id": "oCd9Yw2JTW7x"
      },
      "execution_count": 37,
      "outputs": []
    },
    {
      "cell_type": "code",
      "source": [
        "#x축 라벨 설정\n",
        "x= ['2016','2017','2018','2019','2020']\n",
        "\n",
        "#막대 그래프 설정\n",
        "plt.title('연도별 체류외국인 현황', fontsize = 20)\n",
        "plt.bar(x, data, color = ['#ff9999', '#ffc000', '#8fd9b6', '#d395d0', 'lightskyblue'])\n",
        "#그리드 설정\n",
        "plt.grid(color='#95a5a6ed', linestyle='--', linewidth=1, axis='y', alpha=0.9)\n",
        "#꺾은선 그래프 설정\n",
        "plt.plot(x, data, color='darkslategray', linestyle='--', marker='o')\n",
        "\n",
        "plt.show()"
      ],
      "metadata": {
        "colab": {
          "base_uri": "https://localhost:8080/",
          "height": 396
        },
        "id": "199VJd8OJqTn",
        "outputId": "cb9e1c3c-a90a-46c9-d6f3-54b914e2e957"
      },
      "execution_count": 38,
      "outputs": [
        {
          "output_type": "display_data",
          "data": {
            "text/plain": [
              "<Figure size 576x432 with 1 Axes>"
            ],
            "image/png": "[encoded data removed]"
          },
          "metadata": {
            "needs_background": "light"
          }
        }
      ]
    }
  ]
}
