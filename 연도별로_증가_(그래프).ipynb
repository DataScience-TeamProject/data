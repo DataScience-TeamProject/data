{
  "nbformat": 4,
  "nbformat_minor": 0,
  "metadata": {
    "colab": {
      "name": "연도별로 증가 (그래프)",
      "provenance": [],
      "collapsed_sections": []
    },
    "kernelspec": {
      "name": "python3",
      "display_name": "Python 3"
    },
    "language_info": {
      "name": "python"
    }
  },
  "cells": [
    {
      "cell_type": "markdown",
      "source": [
        "\n",
        "# Matplotlib 불러오기"
      ],
      "metadata": {
        "id": "CwQQJdI2wwij"
      }
    },
    {
      "cell_type": "code",
      "execution_count": null,
      "metadata": {
        "id": "IujVfr2apZBn"
      },
      "outputs": [],
      "source": [
        "import numpy as np\n",
        "import matplotlib\n",
        "import matplotlib.pyplot as plt\n",
        "import pandas as pd\n",
        "\n",
        "plt.rcParams['figure.figsize'] = (10,8)"
      ]
    },
    {
      "cell_type": "markdown",
      "source": [
        "#한국어 폰트 설치"
      ],
      "metadata": {
        "id": "W9g_JbW5w3Di"
      }
    },
    {
      "cell_type": "code",
      "source": [
        "import platform\n",
        "\n",
        "from matplotlib import font_manager, rc\n",
        "plt.rcParams['axes.unicode_minus'] = False\n",
        "\n",
        "if platform.system() == 'Darwin':\n",
        "    rc('font', family='AppleGothic')\n",
        "elif platform.system() == 'Windows':\n",
        "    path = \"c:/Windows/Fonts/malgun.ttf\"\n",
        "    font_name = font_manager.FontProperties(fname=path).get_name()\n",
        "    rc('font', family=font_name)\n",
        "else:\n",
        "    print('Unknown system... sorry~~~~') "
      ],
      "metadata": {
        "colab": {
          "base_uri": "https://localhost:8080/"
        },
        "id": "ZceM_VbuudGW",
        "outputId": "5c1c4471-af29-459d-b635-56b0e74bdfc5"
      },
      "execution_count": null,
      "outputs": [
        {
          "output_type": "stream",
          "name": "stdout",
          "text": [
            "Unknown system... sorry~~~~\n"
          ]
        }
      ]
    },
    {
      "cell_type": "code",
      "source": [
        "!sudo apt-get install -y fonts-nanum\n",
        "!sudo fc-cache -fv\n",
        "!rm ~/.cache/matplotlib -rf"
      ],
      "metadata": {
        "colab": {
          "base_uri": "https://localhost:8080/"
        },
        "id": "3za__FjgufD4",
        "outputId": "52aee849-d64a-48e1-9246-faa3c46d0b2b"
      },
      "execution_count": null,
      "outputs": [
        {
          "output_type": "stream",
          "name": "stdout",
          "text": [
            "Reading package lists... Done\n",
            "Building dependency tree       \n",
            "Reading state information... Done\n",
            "The following package was automatically installed and is no longer required:\n",
            "  libnvidia-common-460\n",
            "Use 'sudo apt autoremove' to remove it.\n",
            "The following NEW packages will be installed:\n",
            "  fonts-nanum\n",
            "0 upgraded, 1 newly installed, 0 to remove and 42 not upgraded.\n",
            "Need to get 9,604 kB of archives.\n",
            "After this operation, 29.5 MB of additional disk space will be used.\n",
            "Get:1 http://archive.ubuntu.com/ubuntu bionic/universe amd64 fonts-nanum all 20170925-1 [9,604 kB]\n",
            "Fetched 9,604 kB in 2s (5,428 kB/s)\n",
            "debconf: unable to initialize frontend: Dialog\n",
            "debconf: (No usable dialog-like program is installed, so the dialog based frontend cannot be used. at /usr/share/perl5/Debconf/FrontEnd/Dialog.pm line 76, <> line 1.)\n",
            "debconf: falling back to frontend: Readline\n",
            "debconf: unable to initialize frontend: Readline\n",
            "debconf: (This frontend requires a controlling tty.)\n",
            "debconf: falling back to frontend: Teletype\n",
            "dpkg-preconfigure: unable to re-open stdin: \n",
            "Selecting previously unselected package fonts-nanum.\n",
            "(Reading database ... 155629 files and directories currently installed.)\n",
            "Preparing to unpack .../fonts-nanum_20170925-1_all.deb ...\n",
            "Unpacking fonts-nanum (20170925-1) ...\n",
            "Setting up fonts-nanum (20170925-1) ...\n",
            "Processing triggers for fontconfig (2.12.6-0ubuntu2) ...\n",
            "/usr/share/fonts: caching, new cache contents: 0 fonts, 1 dirs\n",
            "/usr/share/fonts/truetype: caching, new cache contents: 0 fonts, 3 dirs\n",
            "/usr/share/fonts/truetype/humor-sans: caching, new cache contents: 1 fonts, 0 dirs\n",
            "/usr/share/fonts/truetype/liberation: caching, new cache contents: 16 fonts, 0 dirs\n",
            "/usr/share/fonts/truetype/nanum: caching, new cache contents: 10 fonts, 0 dirs\n",
            "/usr/local/share/fonts: caching, new cache contents: 0 fonts, 0 dirs\n",
            "/root/.local/share/fonts: skipping, no such directory\n",
            "/root/.fonts: skipping, no such directory\n",
            "/var/cache/fontconfig: cleaning cache directory\n",
            "/root/.cache/fontconfig: not cleaning non-existent cache directory\n",
            "/root/.fontconfig: not cleaning non-existent cache directory\n",
            "fc-cache: succeeded\n"
          ]
        }
      ]
    },
    {
      "cell_type": "code",
      "source": [
        "import matplotlib.pyplot as plt\n",
        "\n",
        "plt.rc('font', family='NanumBarunGothic') "
      ],
      "metadata": {
        "id": "7pIEJwLfuiIx"
      },
      "execution_count": null,
      "outputs": []
    },
    {
      "cell_type": "code",
      "source": [
        "foreigner = pd.read_csv('외국인.csv', encoding='cp949')"
      ],
      "metadata": {
        "id": "pAQ0YIoZt1R1"
      },
      "execution_count": null,
      "outputs": []
    },
    {
      "cell_type": "code",
      "source": [
        "print(foreigner.head())"
      ],
      "metadata": {
        "colab": {
          "base_uri": "https://localhost:8080/"
        },
        "id": "K-zYW-gHu3dm",
        "outputId": "4e541ede-fcac-4642-9365-f148576c4f8a"
      },
      "execution_count": null,
      "outputs": [
        {
          "output_type": "stream",
          "name": "stdout",
          "text": [
            "   국적(지역)별(1)  성별(1)     2016   2016.1   2016.2     2016.3     2016.4  \\\n",
            "0  국적(지역)별(1)  성별(1)       합계  외교(A-1)  공무(A-2)  사증면제(B-1)  관광통과(B-2)   \n",
            "1          총계      계  2049441     2992     2230     112323     118566   \n",
            "2          총계     남자  1117206     1597     1395      56041      55209   \n",
            "3          총계     여자   932235     1395      835      56282      63357   \n",
            "4          총계   제3의성        -        -        -          -          -   \n",
            "\n",
            "      2016.5     2016.6     2016.7  ...  2020.28  2020.29    2020.30  2020.31  \\\n",
            "0  일시취재(C-1)  단기방문(C-3)  단기취업(C-4)  ...  거주(F-2)  동반(F-3)  재외동포(F-4)  영주(F-5)   \n",
            "1         27     190443        594  ...    43666    20050     466682   160947   \n",
            "2         21     101814        443  ...    19354     7457     228317    74714   \n",
            "3          6      88629        151  ...    24312    12593     238365    86233   \n",
            "4          -          -          -  ...        -        -          -        -   \n",
            "\n",
            "     2020.32  2020.33    2020.34    2020.35    2020.36     2020.37  \n",
            "0  결혼이민(F-6)  기타(G-1)  관광취업(H-1)  방문취업(H-2)  관광상륙(T-1)  기타(Others)  \n",
            "1     133987    33196        874     154537        257       90654  \n",
            "2      26042    24813        196      93196        144       63242  \n",
            "3     107945     8383        678      61341        113       27412  \n",
            "4          -        -          -          -          -           -  \n",
            "\n",
            "[5 rows x 192 columns]\n"
          ]
        }
      ]
    },
    {
      "cell_type": "code",
      "source": [
        "data=foreigner.loc[1, ['2016','2017','2018','2019','2020']]"
      ],
      "metadata": {
        "id": "VgixbcM1E8G1"
      },
      "execution_count": null,
      "outputs": []
    },
    {
      "cell_type": "code",
      "source": [
        "plt.bar(['2016','2017','2018','2019','2020'], data)\n",
        "plt.grid(color='#95a5a6ed', linestyle='--', linewidth=1, axis='y', alpha=0.9)\n",
        "plt.title('체류외국인 현황')\n",
        "plt.show()"
      ],
      "metadata": {
        "colab": {
          "base_uri": "https://localhost:8080/",
          "height": 265
        },
        "id": "199VJd8OJqTn",
        "outputId": "99adfa27-f1b9-4bfd-c317-de44ef39e333"
      },
      "execution_count": null,
      "outputs": [
        {
          "output_type": "display_data",
          "data": {
            "text/plain": [
              "<Figure size 432x288 with 1 Axes>"
            ],
            "image/png": "[encoded data removed]"
          },
          "metadata": {
            "needs_background": "light"
          }
        }
      ]
    }
  ]
}
