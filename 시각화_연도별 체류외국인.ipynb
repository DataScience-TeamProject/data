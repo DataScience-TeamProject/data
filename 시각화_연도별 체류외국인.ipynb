{
  "nbformat": 4,
  "nbformat_minor": 0,
  "metadata": {
    "colab": {
      "name": "연도별로 증가 (그래프)",
      "provenance": [],
      "collapsed_sections": [],
      "authorship_tag": "ABX9TyNspRgojWfk05cheV3XZolo",
      "include_colab_link": true
    },
    "kernelspec": {
      "name": "python3",
      "display_name": "Python 3"
    },
    "language_info": {
      "name": "python"
    }
  },
  "cells": [
    {
      "cell_type": "markdown",
      "metadata": {
        "id": "view-in-github",
        "colab_type": "text"
      },
      "source": [
        "<a href=\"https://colab.research.google.com/github/DataScience-TeamProject/data/blob/main/%EC%97%B0%EB%8F%84%EB%B3%84%EB%A1%9C_%EC%A6%9D%EA%B0%80_(%EA%B7%B8%EB%9E%98%ED%94%84).ipynb\" target=\"_parent\"><img src=\"https://colab.research.google.com/assets/colab-badge.svg\" alt=\"Open In Colab\"/></a>"
      ]
    },
    {
      "cell_type": "markdown",
      "source": [
        "\n",
        "# Matplotlib 불러오기"
      ],
      "metadata": {
        "id": "CwQQJdI2wwij"
      }
    },
    {
      "cell_type": "code",
      "execution_count": null,
      "metadata": {
        "id": "IujVfr2apZBn"
      },
      "outputs": [],
      "source": [
        "import numpy as np\n",
        "import matplotlib\n",
        "import matplotlib.pyplot as plt\n",
        "import pandas as pd\n",
        "\n",
        "plt.rcParams['figure.figsize'] = (10,8)"
      ]
    },
    {
      "cell_type": "markdown",
      "source": [
        "#한국어 폰트 설치"
      ],
      "metadata": {
        "id": "W9g_JbW5w3Di"
      }
    },
    {
      "cell_type": "code",
      "source": [
        "import platform\n",
        "\n",
        "from matplotlib import font_manager, rc\n",
        "plt.rcParams['axes.unicode_minus'] = False\n",
        "\n",
        "if platform.system() == 'Darwin':\n",
        "    rc('font', family='AppleGothic')\n",
        "elif platform.system() == 'Windows':\n",
        "    path = \"c:/Windows/Fonts/malgun.ttf\"\n",
        "    font_name = font_manager.FontProperties(fname=path).get_name()\n",
        "    rc('font', family=font_name)\n",
        "else:\n",
        "    print('Unknown system... sorry~~~~') "
      ],
      "metadata": {
        "colab": {
          "base_uri": "https://localhost:8080/"
        },
        "id": "ZceM_VbuudGW",
        "outputId": "bf57751d-85d0-499d-aa92-406b7338b4c6"
      },
      "execution_count": null,
      "outputs": [
        {
          "output_type": "stream",
          "name": "stdout",
          "text": [
            "Unknown system... sorry~~~~\n"
          ]
        }
      ]
    },
    {
      "cell_type": "code",
      "source": [
        "!sudo apt-get install -y fonts-nanum\n",
        "!sudo fc-cache -fv\n",
        "!rm ~/.cache/matplotlib -rf"
      ],
      "metadata": {
        "colab": {
          "base_uri": "https://localhost:8080/"
        },
        "id": "3za__FjgufD4",
        "outputId": "f509d038-a8c2-438d-dd90-8c3e6863bf0e"
      },
      "execution_count": null,
      "outputs": [
        {
          "output_type": "stream",
          "name": "stdout",
          "text": [
            "Reading package lists... Done\n",
            "Building dependency tree       \n",
            "Reading state information... Done\n",
            "fonts-nanum is already the newest version (20170925-1).\n",
            "The following package was automatically installed and is no longer required:\n",
            "  libnvidia-common-460\n",
            "Use 'sudo apt autoremove' to remove it.\n",
            "0 upgraded, 0 newly installed, 0 to remove and 45 not upgraded.\n",
            "/usr/share/fonts: caching, new cache contents: 0 fonts, 1 dirs\n",
            "/usr/share/fonts/truetype: caching, new cache contents: 0 fonts, 3 dirs\n",
            "/usr/share/fonts/truetype/humor-sans: caching, new cache contents: 1 fonts, 0 dirs\n",
            "/usr/share/fonts/truetype/liberation: caching, new cache contents: 16 fonts, 0 dirs\n",
            "/usr/share/fonts/truetype/nanum: caching, new cache contents: 10 fonts, 0 dirs\n",
            "/usr/local/share/fonts: caching, new cache contents: 0 fonts, 0 dirs\n",
            "/root/.local/share/fonts: skipping, no such directory\n",
            "/root/.fonts: skipping, no such directory\n",
            "/var/cache/fontconfig: cleaning cache directory\n",
            "/root/.cache/fontconfig: not cleaning non-existent cache directory\n",
            "/root/.fontconfig: not cleaning non-existent cache directory\n",
            "fc-cache: succeeded\n"
          ]
        }
      ]
    },
    {
      "cell_type": "code",
      "source": [
        "import matplotlib.pyplot as plt\n",
        "\n",
        "plt.rc('font', family='NanumBarunGothic') "
      ],
      "metadata": {
        "id": "7pIEJwLfuiIx"
      },
      "execution_count": null,
      "outputs": []
    },
    {
      "cell_type": "code",
      "source": [
        "foreigner = pd.read_csv('외국인.csv', encoding='cp949')"
      ],
      "metadata": {
        "id": "pAQ0YIoZt1R1"
      },
      "execution_count": null,
      "outputs": []
    },
    {
      "cell_type": "code",
      "source": [
        "print(foreigner.info())"
      ],
      "metadata": {
        "colab": {
          "base_uri": "https://localhost:8080/"
        },
        "id": "vd4B9ZXH1uzA",
        "outputId": "37413d16-de49-4c7d-9766-5df6194a3756"
      },
      "execution_count": null,
      "outputs": [
        {
          "output_type": "stream",
          "name": "stdout",
          "text": [
            "<class 'pandas.core.frame.DataFrame'>\n",
            "RangeIndex: 27 entries, 0 to 26\n",
            "Columns: 192 entries, 국적(지역)별(1) to 2020.37\n",
            "dtypes: object(192)\n",
            "memory usage: 40.6+ KB\n",
            "None\n"
          ]
        }
      ]
    },
    {
      "cell_type": "code",
      "source": [
        "print(foreigner.head())"
      ],
      "metadata": {
        "colab": {
          "base_uri": "https://localhost:8080/"
        },
        "id": "K-zYW-gHu3dm",
        "outputId": "20cd3de3-20c0-412a-8c9e-17ecdd7fc8f0"
      },
      "execution_count": null,
      "outputs": [
        {
          "output_type": "stream",
          "name": "stdout",
          "text": [
            "   국적(지역)별(1)  성별(1)     2016   2016.1   2016.2     2016.3     2016.4  \\\n",
            "0  국적(지역)별(1)  성별(1)       합계  외교(A-1)  공무(A-2)  사증면제(B-1)  관광통과(B-2)   \n",
            "1          총계      계  2049441     2992     2230     112323     118566   \n",
            "2          총계     남자  1117206     1597     1395      56041      55209   \n",
            "3          총계     여자   932235     1395      835      56282      63357   \n",
            "4          총계   제3의성        -        -        -          -          -   \n",
            "\n",
            "      2016.5     2016.6     2016.7  ...  2020.28  2020.29    2020.30  2020.31  \\\n",
            "0  일시취재(C-1)  단기방문(C-3)  단기취업(C-4)  ...  거주(F-2)  동반(F-3)  재외동포(F-4)  영주(F-5)   \n",
            "1         27     190443        594  ...    43666    20050     466682   160947   \n",
            "2         21     101814        443  ...    19354     7457     228317    74714   \n",
            "3          6      88629        151  ...    24312    12593     238365    86233   \n",
            "4          -          -          -  ...        -        -          -        -   \n",
            "\n",
            "     2020.32  2020.33    2020.34    2020.35    2020.36     2020.37  \n",
            "0  결혼이민(F-6)  기타(G-1)  관광취업(H-1)  방문취업(H-2)  관광상륙(T-1)  기타(Others)  \n",
            "1     133987    33196        874     154537        257       90654  \n",
            "2      26042    24813        196      93196        144       63242  \n",
            "3     107945     8383        678      61341        113       27412  \n",
            "4          -        -          -          -          -           -  \n",
            "\n",
            "[5 rows x 192 columns]\n"
          ]
        }
      ]
    },
    {
      "cell_type": "code",
      "source": [
        "data=foreigner.loc[1, ['2016','2017','2018','2019','2020']]"
      ],
      "metadata": {
        "id": "VgixbcM1E8G1"
      },
      "execution_count": null,
      "outputs": []
    },
    {
      "cell_type": "code",
      "source": [
        "data"
      ],
      "metadata": {
        "colab": {
          "base_uri": "https://localhost:8080/"
        },
        "id": "FuH7IBOi15sW",
        "outputId": "c6cdd7a0-1c01-4a87-cd67-78843c670b96"
      },
      "execution_count": null,
      "outputs": [
        {
          "output_type": "execute_result",
          "data": {
            "text/plain": [
              "2016    2049441\n",
              "2017    2180498\n",
              "2018    2367607\n",
              "2019    2524656\n",
              "2020    2036075\n",
              "Name: 1, dtype: object"
            ]
          },
          "metadata": {},
          "execution_count": 22
        }
      ]
    },
    {
      "cell_type": "code",
      "source": [
        "data = data.astype('float') "
      ],
      "metadata": {
        "id": "nGDnw_PW8tGq"
      },
      "execution_count": null,
      "outputs": []
    },
    {
      "cell_type": "code",
      "source": [
        "data"
      ],
      "metadata": {
        "colab": {
          "base_uri": "https://localhost:8080/"
        },
        "id": "FgeSR9IW9AaK",
        "outputId": "d7720382-9613-4bd6-83cb-ca38e85ee4cb"
      },
      "execution_count": null,
      "outputs": [
        {
          "output_type": "execute_result",
          "data": {
            "text/plain": [
              "2016    2049441.0\n",
              "2017    2180498.0\n",
              "2018    2367607.0\n",
              "2019    2524656.0\n",
              "2020    2036075.0\n",
              "Name: 1, dtype: float64"
            ]
          },
          "metadata": {},
          "execution_count": 32
        }
      ]
    },
    {
      "cell_type": "code",
      "source": [
        "\n",
        "\n",
        "x= ['2016','2017','2018','2019','2020']\n",
        "\n",
        "plt.bar(x, data, color = ['#ff9999', '#ffc000', '#8fd9b6', '#d395d0', 'lightskyblue'])\n",
        "plt.grid(color='#95a5a6ed', linestyle='--', linewidth=1, axis='y', alpha=0.9)\n",
        "\n",
        "plt.plot(x, data, color='darkslategray', linestyle='--', marker='o')\n",
        "\n",
        "\n",
        "plt.title('체류외국인 현황')\n",
        "plt.show()"
      ],
      "metadata": {
        "colab": {
          "base_uri": "https://localhost:8080/",
          "height": 280
        },
        "id": "199VJd8OJqTn",
        "outputId": "8376f3c2-f104-4991-99b0-3bf8a2ed2a57"
      },
      "execution_count": null,
      "outputs": [
        {
          "output_type": "display_data",
          "data": {
            "text/plain": [
              "<Figure size 432x288 with 1 Axes>"
            ],
            "image/png": "[encoded data removed]"
          },
          "metadata": {
            "needs_background": "light"
          }
        }
      ]
    },
    {
      "cell_type": "code",
      "source": [
        ""
      ],
      "metadata": {
        "id": "UgAQcqF59gZQ"
      },
      "execution_count": null,
      "outputs": []
    }
  ]
}
